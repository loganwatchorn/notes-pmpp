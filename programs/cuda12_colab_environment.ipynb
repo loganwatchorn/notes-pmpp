{
  "cells": [
    {
      "cell_type": "code",
      "execution_count": null,
      "metadata": {
        "colab": {
          "base_uri": "https://localhost:8080/"
        },
        "id": "JFZn1ZXn_NQT",
        "outputId": "cb13cc6a-1f93-4bdd-d0fc-dba24eeec962"
      },
      "outputs": [],
      "source": [
        "!nvcc --version"
      ]
    },
    {
      "cell_type": "code",
      "execution_count": 16,
      "metadata": {
        "id": "EXhdwjDs_8qm"
      },
      "outputs": [],
      "source": [
        "!nvcc -o main main.cu"
      ]
    },
    {
      "cell_type": "code",
      "execution_count": 17,
      "metadata": {
        "id": "dAoP6WEaE_y6"
      },
      "outputs": [],
      "source": [
        "!./main"
      ]
    }
  ],
  "metadata": {
    "accelerator": "GPU",
    "colab": {
      "gpuType": "T4",
      "provenance": []
    },
    "kernelspec": {
      "display_name": "Python 3",
      "name": "python3"
    },
    "language_info": {
      "name": "python"
    }
  },
  "nbformat": 4,
  "nbformat_minor": 0
}
